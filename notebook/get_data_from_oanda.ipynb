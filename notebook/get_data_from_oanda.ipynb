{
 "cells": [
  {
   "cell_type": "markdown",
   "metadata": {},
   "source": [
    "# Set up"
   ]
  },
  {
   "cell_type": "markdown",
   "metadata": {},
   "source": [
    "- Install oandapyV20 lib: https://oanda-api-v20.readthedocs.io/en/latest/installation.html"
   ]
  },
  {
   "cell_type": "code",
   "execution_count": null,
   "metadata": {},
   "outputs": [],
   "source": [
    "import pandas as pd\n",
    "from oandapyV20 import API\n",
    "import oandapyV20.endpoints.instruments as instruments\n",
    "from dateutil import parser"
   ]
  },
  {
   "cell_type": "code",
   "execution_count": null,
   "metadata": {},
   "outputs": [],
   "source": [
    "# Need to create a demo account on Oanda to get ACCESS_TOKEN and ACCOUNT_ID\n",
    "# Change ACCESS_TOKEN and ACCOUNT_ID to yours\n",
    "ACCESS_TOKEN = '4da7bc21da90e02b4ffb1ba911189b05-517b03a56bdf473fafe293baf3ae3694'\n",
    "ACCOUNT_ID = '101-009-13059916-001'"
   ]
  },
  {
   "cell_type": "code",
   "execution_count": null,
   "metadata": {},
   "outputs": [],
   "source": [
    "api = API(access_token=ACCESS_TOKEN,\n",
    "                 environment='practice')"
   ]
  },
  {
   "cell_type": "code",
   "execution_count": null,
   "metadata": {},
   "outputs": [],
   "source": [
    "# Define the range of data you're getting\n",
    "params = {\n",
    "#     'from': '2019-01-01T00:00:00.000000000Z',\n",
    "    'to': '2019-01-22T18:40:00.000000000Z',\n",
    "    'count': 5000,  # number of data. Max is 5000\n",
    "    'granularity': 'M5',  # 4hours\n",
    "}"
   ]
  },
  {
   "cell_type": "code",
   "execution_count": null,
   "metadata": {},
   "outputs": [],
   "source": [
    "%%time\n",
    "#Get data from Oanda API\n",
    "r = instruments.InstrumentsCandles(instrument=\"USD_JPY\", params=params)\n",
    "api.request(r)"
   ]
  },
  {
   "cell_type": "code",
   "execution_count": null,
   "metadata": {},
   "outputs": [],
   "source": [
    "# No need to change\n",
    "data = []\n",
    "for raw in r.response['candles']:\n",
    "    data.append([raw['time'], raw['volume'], raw['mid']['o'], raw['mid']['h'], raw['mid']['l'], raw['mid']['c']])"
   ]
  },
  {
   "cell_type": "code",
   "execution_count": null,
   "metadata": {},
   "outputs": [],
   "source": [
    "# No need to change\n",
    "df = pd.DataFrame(data)\n",
    "df.columns = ['Time', 'Volume', 'Open', 'High', 'Low', 'Close']\n",
    "f = lambda x: x.split('.')[0]\n",
    "df['Time'] = df['Time'].apply(f)\n",
    "df = df.set_index('Time')\n",
    "df = df[['Open', 'High', 'Low', 'Close', 'Volume']]\n",
    "df.head()"
   ]
  },
  {
   "cell_type": "code",
   "execution_count": null,
   "metadata": {},
   "outputs": [],
   "source": [
    "# No need to change\n",
    "df.index = pd.to_datetime(df.index)\n",
    "df.tail()"
   ]
  },
  {
   "cell_type": "code",
   "execution_count": null,
   "metadata": {},
   "outputs": [],
   "source": [
    "df.head()"
   ]
  },
  {
   "cell_type": "code",
   "execution_count": null,
   "metadata": {},
   "outputs": [],
   "source": [
    "df.index"
   ]
  },
  {
   "cell_type": "code",
   "execution_count": null,
   "metadata": {},
   "outputs": [],
   "source": [
    "# Save the dataframe containing the data that you just downloaded from Oanda\n",
    "df.to_csv('../data/raw/JPYUSD_5MIN/JPYUSD_5Min_CandleStick_20181227_092500_20190122_183500_OHLCV.csv.bz2', compression='bz2')"
   ]
  },
  {
   "cell_type": "markdown",
   "metadata": {},
   "source": [
    "# Concat data"
   ]
  },
  {
   "cell_type": "code",
   "execution_count": null,
   "metadata": {},
   "outputs": [],
   "source": [
    "import os\n",
    "file_list = sorted(os.listdir('../data/raw/JPYUSD_5MIN'))\n",
    "file_list = ['../data/raw/JPYUSD_5MIN/' + file_name for file_name in file_list]\n",
    "file_list"
   ]
  },
  {
   "cell_type": "code",
   "execution_count": null,
   "metadata": {},
   "outputs": [],
   "source": [
    "concat_df = pd.read_csv(file_list[0])\n",
    "for i in range(1, len(file_list)):\n",
    "    df_tmp = pd.read_csv(file_list[i])\n",
    "    concat_df = pd.concat([concat_df, df_tmp], ignore_index=True)"
   ]
  },
  {
   "cell_type": "code",
   "execution_count": null,
   "metadata": {},
   "outputs": [],
   "source": [
    "concat_df.head()"
   ]
  },
  {
   "cell_type": "code",
   "execution_count": null,
   "metadata": {},
   "outputs": [],
   "source": [
    "concat_df.tail()"
   ]
  },
  {
   "cell_type": "code",
   "execution_count": null,
   "metadata": {},
   "outputs": [],
   "source": [
    "concat_df.to_csv('../data/raw/JPYUSD_5MIN/master.csv.bz2', compression='bz2', index=False)"
   ]
  },
  {
   "cell_type": "markdown",
   "metadata": {},
   "source": [
    "# Split raw data into train and test"
   ]
  },
  {
   "cell_type": "code",
   "execution_count": null,
   "metadata": {},
   "outputs": [],
   "source": [
    "raw_df = pd.read_csv('../data/raw/JPYUSD_5MIN/master.csv.bz2', index_col='Time')\n",
    "raw_df.head()"
   ]
  },
  {
   "cell_type": "code",
   "execution_count": null,
   "metadata": {},
   "outputs": [],
   "source": [
    "# Get rid of OCT because OCT starts from the middle, 14th and we want full data for each month\n",
    "updated_df = raw_df[raw_df.index > '2019-01-01']\n",
    "updated_df.head()"
   ]
  },
  {
   "cell_type": "code",
   "execution_count": null,
   "metadata": {},
   "outputs": [],
   "source": [
    "updated_df.shape"
   ]
  },
  {
   "cell_type": "code",
   "execution_count": null,
   "metadata": {},
   "outputs": [],
   "source": [
    "# Define the first day for the test data and create train_df\n",
    "test_start = '2019-11-01'\n",
    "train_df = updated_df[updated_df.index < test_start]\n",
    "train_df.tail()"
   ]
  },
  {
   "cell_type": "code",
   "execution_count": null,
   "metadata": {},
   "outputs": [],
   "source": [
    "test_df = updated_df[updated_df.index > test_start]\n",
    "test_df.head()"
   ]
  },
  {
   "cell_type": "code",
   "execution_count": null,
   "metadata": {},
   "outputs": [],
   "source": [
    "print('Num samples of train: {}'.format(train_df.shape[0]))\n",
    "print('Num samples of test: {}'.format(test_df.shape[0]))"
   ]
  },
  {
   "cell_type": "code",
   "execution_count": null,
   "metadata": {},
   "outputs": [],
   "source": [
    "11978/(62295 + 11978)"
   ]
  },
  {
   "cell_type": "code",
   "execution_count": null,
   "metadata": {},
   "outputs": [],
   "source": [
    "# Save train_df and test_df\n",
    "train_df.to_csv('../data/JPYUSD_5MIN_2019/train.csv.bz2', compression='bz2')\n",
    "test_df.to_csv('../data/JPYUSD_5MIN_2019/test.csv.bz2', compression='bz2')"
   ]
  },
  {
   "cell_type": "code",
   "execution_count": null,
   "metadata": {},
   "outputs": [],
   "source": []
  }
 ],
 "metadata": {
  "kernelspec": {
   "display_name": "Python 3",
   "language": "python",
   "name": "python3"
  },
  "language_info": {
   "codemirror_mode": {
    "name": "ipython",
    "version": 3
   },
   "file_extension": ".py",
   "mimetype": "text/x-python",
   "name": "python",
   "nbconvert_exporter": "python",
   "pygments_lexer": "ipython3",
   "version": "3.7.0"
  }
 },
 "nbformat": 4,
 "nbformat_minor": 2
}
